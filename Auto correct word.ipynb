{
 "cells": [
  {
   "cell_type": "code",
   "execution_count": 1,
   "id": "256b5f98",
   "metadata": {},
   "outputs": [
    {
     "name": "stdout",
     "output_type": "stream",
     "text": [
      "Collecting pyspellchecker\n",
      "  Downloading pyspellchecker-0.7.2-py3-none-any.whl (3.4 MB)\n",
      "Installing collected packages: pyspellchecker\n",
      "Successfully installed pyspellchecker-0.7.2\n",
      "Note: you may need to restart the kernel to use updated packages.\n"
     ]
    }
   ],
   "source": [
    "pip install pyspellchecker\n"
   ]
  },
  {
   "cell_type": "code",
   "execution_count": 2,
   "id": "284fab21",
   "metadata": {},
   "outputs": [],
   "source": [
    "from spellchecker import SpellChecker"
   ]
  },
  {
   "cell_type": "code",
   "execution_count": 3,
   "id": "ab9f6c60",
   "metadata": {},
   "outputs": [
    {
     "data": {
      "text/plain": [
       "['_SpellChecker__edit_distance_alt',\n",
       " '__class__',\n",
       " '__contains__',\n",
       " '__delattr__',\n",
       " '__dir__',\n",
       " '__doc__',\n",
       " '__eq__',\n",
       " '__format__',\n",
       " '__ge__',\n",
       " '__getattribute__',\n",
       " '__getitem__',\n",
       " '__gt__',\n",
       " '__hash__',\n",
       " '__init__',\n",
       " '__init_subclass__',\n",
       " '__iter__',\n",
       " '__le__',\n",
       " '__lt__',\n",
       " '__module__',\n",
       " '__ne__',\n",
       " '__new__',\n",
       " '__reduce__',\n",
       " '__reduce_ex__',\n",
       " '__repr__',\n",
       " '__setattr__',\n",
       " '__sizeof__',\n",
       " '__slots__',\n",
       " '__str__',\n",
       " '__subclasshook__',\n",
       " '_case_sensitive',\n",
       " '_check_if_should_check',\n",
       " '_distance',\n",
       " '_tokenizer',\n",
       " '_word_frequency',\n",
       " 'candidates',\n",
       " 'correction',\n",
       " 'distance',\n",
       " 'edit_distance_1',\n",
       " 'edit_distance_2',\n",
       " 'export',\n",
       " 'known',\n",
       " 'languages',\n",
       " 'split_words',\n",
       " 'unknown',\n",
       " 'word_frequency',\n",
       " 'word_usage_frequency']"
      ]
     },
     "execution_count": 3,
     "metadata": {},
     "output_type": "execute_result"
    }
   ],
   "source": [
    "dir(SpellChecker)"
   ]
  },
  {
   "cell_type": "code",
   "execution_count": 4,
   "id": "77c98ce7",
   "metadata": {},
   "outputs": [],
   "source": [
    "spell=SpellChecker()"
   ]
  },
  {
   "cell_type": "code",
   "execution_count": 5,
   "id": "6ba8c36b",
   "metadata": {},
   "outputs": [],
   "source": [
    "docx=[\"outo\",\"calandar\",\"lightenig\",\"misspel\",\"necessry\",\"bussiness\",\"recieve\",\"adress\"]"
   ]
  },
  {
   "cell_type": "code",
   "execution_count": 6,
   "id": "99409e88",
   "metadata": {},
   "outputs": [
    {
     "name": "stdout",
     "output_type": "stream",
     "text": [
      "outo:out\n",
      "calandar:calendar\n",
      "lightenig:lightening\n",
      "misspel:misspell\n",
      "necessry:necessary\n",
      "bussiness:business\n",
      "recieve:receive\n",
      "adress:dress\n"
     ]
    }
   ],
   "source": [
    "for word in docx:\n",
    "# Get the one `most likely` answer\n",
    "    print(f'{word}:{spell.correction(word)}')"
   ]
  },
  {
   "cell_type": "code",
   "execution_count": 9,
   "id": "c8f9abfa",
   "metadata": {},
   "outputs": [
    {
     "name": "stdout",
     "output_type": "stream",
     "text": [
      "outo:{'otto', 'outa', 'oto', 'out', 'outs', 'outto', 'orto', 'outof', 'puto', 'outl', 'auto', 'outdo', 'outon', 'ouzo', 'youto', 'onto'}\n",
      "calandar:{'calendar'}\n",
      "lightenig:{'lightening'}\n",
      "misspel:{'misspell'}\n",
      "necessry:{'necessay', 'necessary'}\n",
      "bussiness:{'business', 'bussines'}\n",
      "recieve:{'relieve', 'receive'}\n",
      "adress:{'dress', 'address'}\n"
     ]
    }
   ],
   "source": [
    "for word in docx:\n",
    "    print(f'{word}:{spell.candidates(word)}')"
   ]
  },
  {
   "cell_type": "code",
   "execution_count": 8,
   "id": "4d6c1b9f",
   "metadata": {},
   "outputs": [],
   "source": [
    "myname =\"outo\""
   ]
  },
  {
   "cell_type": "code",
   "execution_count": 10,
   "id": "89648006",
   "metadata": {},
   "outputs": [
    {
     "data": {
      "text/plain": [
       "'out'"
      ]
     },
     "execution_count": 10,
     "metadata": {},
     "output_type": "execute_result"
    }
   ],
   "source": [
    "spell.correction(myname)"
   ]
  },
  {
   "cell_type": "code",
   "execution_count": 11,
   "id": "107d291a",
   "metadata": {},
   "outputs": [
    {
     "data": {
      "text/plain": [
       "{'auto',\n",
       " 'onto',\n",
       " 'orto',\n",
       " 'oto',\n",
       " 'otto',\n",
       " 'out',\n",
       " 'outa',\n",
       " 'outdo',\n",
       " 'outl',\n",
       " 'outof',\n",
       " 'outon',\n",
       " 'outs',\n",
       " 'outto',\n",
       " 'ouzo',\n",
       " 'puto',\n",
       " 'youto'}"
      ]
     },
     "execution_count": 11,
     "metadata": {},
     "output_type": "execute_result"
    }
   ],
   "source": [
    "spell.candidates(myname)"
   ]
  },
  {
   "cell_type": "code",
   "execution_count": 12,
   "id": "6c6de9dc",
   "metadata": {},
   "outputs": [
    {
     "name": "stdout",
     "output_type": "stream",
     "text": [
      "Collecting autocorrect\n",
      "  Downloading autocorrect-2.6.1.tar.gz (622 kB)\n",
      "Building wheels for collected packages: autocorrect\n",
      "  Building wheel for autocorrect (setup.py): started\n",
      "  Building wheel for autocorrect (setup.py): finished with status 'done'\n",
      "  Created wheel for autocorrect: filename=autocorrect-2.6.1-py3-none-any.whl size=622380 sha256=46a8c2dbc34d8847328b530d7fd33a9e9c2f9a0d6ff222dcf9c2c1dbf28360c3\n",
      "  Stored in directory: c:\\users\\hp\\appdata\\local\\pip\\cache\\wheels\\72\\b8\\3b\\a90246d13090e85394a8a44b78c8abf577c0766f29d6543c75\n",
      "Successfully built autocorrect\n",
      "Installing collected packages: autocorrect\n",
      "Successfully installed autocorrect-2.6.1\n",
      "Note: you may need to restart the kernel to use updated packages.\n"
     ]
    }
   ],
   "source": [
    "pip install autocorrect"
   ]
  },
  {
   "cell_type": "code",
   "execution_count": 13,
   "id": "76e1cfb8",
   "metadata": {},
   "outputs": [],
   "source": [
    "from autocorrect import spell"
   ]
  },
  {
   "cell_type": "code",
   "execution_count": 14,
   "id": "b86407ab",
   "metadata": {},
   "outputs": [
    {
     "data": {
      "text/plain": [
       "['outo',\n",
       " 'calandar',\n",
       " 'lightenig',\n",
       " 'misspel',\n",
       " 'necessry',\n",
       " 'bussiness',\n",
       " 'recieve',\n",
       " 'adress']"
      ]
     },
     "execution_count": 14,
     "metadata": {},
     "output_type": "execute_result"
    }
   ],
   "source": [
    "docx"
   ]
  },
  {
   "cell_type": "code",
   "execution_count": 15,
   "id": "1707aadb",
   "metadata": {},
   "outputs": [
    {
     "name": "stdout",
     "output_type": "stream",
     "text": [
      "autocorrect.spell is deprecated,             use autocorrect.Speller instead\n",
      "out\n",
      "autocorrect.spell is deprecated,             use autocorrect.Speller instead\n",
      "calendar\n",
      "autocorrect.spell is deprecated,             use autocorrect.Speller instead\n",
      "lighting\n",
      "autocorrect.spell is deprecated,             use autocorrect.Speller instead\n",
      "missed\n",
      "autocorrect.spell is deprecated,             use autocorrect.Speller instead\n",
      "necessary\n",
      "autocorrect.spell is deprecated,             use autocorrect.Speller instead\n",
      "business\n",
      "autocorrect.spell is deprecated,             use autocorrect.Speller instead\n",
      "receive\n",
      "autocorrect.spell is deprecated,             use autocorrect.Speller instead\n",
      "address\n"
     ]
    }
   ],
   "source": [
    "for word in docx:\n",
    "    print(spell(word))"
   ]
  },
  {
   "cell_type": "code",
   "execution_count": 16,
   "id": "2831d387",
   "metadata": {},
   "outputs": [
    {
     "name": "stdout",
     "output_type": "stream",
     "text": [
      "Collecting textblob\n",
      "  Downloading textblob-0.17.1-py2.py3-none-any.whl (636 kB)\n",
      "Requirement already satisfied: nltk>=3.1 in c:\\users\\hp\\anaconda3\\lib\\site-packages (from textblob) (3.6.1)\n",
      "Requirement already satisfied: joblib in c:\\users\\hp\\anaconda3\\lib\\site-packages (from nltk>=3.1->textblob) (1.0.1)\n",
      "Requirement already satisfied: tqdm in c:\\users\\hp\\anaconda3\\lib\\site-packages (from nltk>=3.1->textblob) (4.59.0)\n",
      "Requirement already satisfied: click in c:\\users\\hp\\anaconda3\\lib\\site-packages (from nltk>=3.1->textblob) (7.1.2)\n",
      "Requirement already satisfied: regex in c:\\users\\hp\\anaconda3\\lib\\site-packages (from nltk>=3.1->textblob) (2021.4.4)\n",
      "Installing collected packages: textblob\n",
      "Successfully installed textblob-0.17.1\n",
      "Note: you may need to restart the kernel to use updated packages.\n"
     ]
    }
   ],
   "source": [
    "pip install textblob"
   ]
  },
  {
   "cell_type": "code",
   "execution_count": 17,
   "id": "e64cf1b4",
   "metadata": {},
   "outputs": [],
   "source": [
    "from textblob import TextBlob"
   ]
  },
  {
   "cell_type": "code",
   "execution_count": 18,
   "id": "afc330c5",
   "metadata": {},
   "outputs": [],
   "source": [
    "spell = TextBlob(\"I amm goodd at spelling mstake.\")"
   ]
  },
  {
   "cell_type": "code",
   "execution_count": 19,
   "id": "33878870",
   "metadata": {},
   "outputs": [],
   "source": [
    "spell = spell.correct()"
   ]
  },
  {
   "cell_type": "code",
   "execution_count": 20,
   "id": "72ddc7ae",
   "metadata": {},
   "outputs": [
    {
     "name": "stdout",
     "output_type": "stream",
     "text": [
      "I am good at spelling mistake.\n"
     ]
    }
   ],
   "source": [
    "print(spell)"
   ]
  },
  {
   "cell_type": "code",
   "execution_count": 21,
   "id": "98198cfd",
   "metadata": {},
   "outputs": [],
   "source": [
    "spell=TextBlob(\"I am an outomobile enginner\")"
   ]
  },
  {
   "cell_type": "code",
   "execution_count": 22,
   "id": "9beb273a",
   "metadata": {},
   "outputs": [],
   "source": [
    "spell=spell.correct()"
   ]
  },
  {
   "cell_type": "code",
   "execution_count": 23,
   "id": "e0bb3959",
   "metadata": {},
   "outputs": [
    {
     "name": "stdout",
     "output_type": "stream",
     "text": [
      "I am an automobile engineer\n"
     ]
    }
   ],
   "source": [
    "print(spell)"
   ]
  },
  {
   "cell_type": "code",
   "execution_count": null,
   "id": "1a314030",
   "metadata": {},
   "outputs": [],
   "source": []
  }
 ],
 "metadata": {
  "kernelspec": {
   "display_name": "Python 3",
   "language": "python",
   "name": "python3"
  },
  "language_info": {
   "codemirror_mode": {
    "name": "ipython",
    "version": 3
   },
   "file_extension": ".py",
   "mimetype": "text/x-python",
   "name": "python",
   "nbconvert_exporter": "python",
   "pygments_lexer": "ipython3",
   "version": "3.8.8"
  }
 },
 "nbformat": 4,
 "nbformat_minor": 5
}
